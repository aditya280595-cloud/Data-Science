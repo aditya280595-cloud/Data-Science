{
 "cells": [
  {
   "cell_type": "code",
   "execution_count": 2,
   "id": "9f0f058b-73e1-45d2-b163-7bf1ac954295",
   "metadata": {},
   "outputs": [],
   "source": [
    "a=5\n",
    "b=6"
   ]
  },
  {
   "cell_type": "code",
   "execution_count": 4,
   "id": "7ca5dc99-efee-44c9-9a6f-b6fd36c0b1af",
   "metadata": {},
   "outputs": [
    {
     "data": {
      "text/plain": [
       "30"
      ]
     },
     "execution_count": 4,
     "metadata": {},
     "output_type": "execute_result"
    }
   ],
   "source": [
    "a*b"
   ]
  },
  {
   "cell_type": "code",
   "execution_count": 8,
   "id": "8afd736e-20eb-418a-81c5-1ac23c585e7f",
   "metadata": {},
   "outputs": [],
   "source": [
    "c=a*b"
   ]
  },
  {
   "cell_type": "code",
   "execution_count": 10,
   "id": "523123d6-1fe8-45aa-9fbc-eb95a9046b31",
   "metadata": {},
   "outputs": [],
   "source": [
    "d=a+b"
   ]
  },
  {
   "cell_type": "code",
   "execution_count": 14,
   "id": "a89fc0bb-3ad4-48c0-a2ad-6339c501227d",
   "metadata": {},
   "outputs": [],
   "source": [
    "e=c*d"
   ]
  },
  {
   "cell_type": "code",
   "execution_count": 16,
   "id": "660bb7e2-4316-4e0c-8cf4-9d9490759999",
   "metadata": {},
   "outputs": [
    {
     "name": "stdout",
     "output_type": "stream",
     "text": [
      "5 6 30 -1 -30\n"
     ]
    }
   ],
   "source": [
    "print(a,b,c,d,e)"
   ]
  },
  {
   "cell_type": "code",
   "execution_count": 18,
   "id": "5508321f-1107-4981-9285-2fa44190494d",
   "metadata": {},
   "outputs": [],
   "source": [
    "f=[a,b,c,d,e]"
   ]
  },
  {
   "cell_type": "code",
   "execution_count": 20,
   "id": "00a27f2d-e1b9-4acc-8048-71471eea3831",
   "metadata": {},
   "outputs": [
    {
     "data": {
      "text/plain": [
       "[5, 6, 30, -1, -30]"
      ]
     },
     "execution_count": 20,
     "metadata": {},
     "output_type": "execute_result"
    }
   ],
   "source": [
    "f"
   ]
  },
  {
   "cell_type": "code",
   "execution_count": 22,
   "id": "20ddb15f-9a2e-4b1e-b7f7-e879a7be571d",
   "metadata": {},
   "outputs": [
    {
     "name": "stdout",
     "output_type": "stream",
     "text": [
      "5\n",
      "6\n",
      "30\n",
      "-1\n",
      "-30\n"
     ]
    }
   ],
   "source": [
    "for g in f:\n",
    "    print(g)"
   ]
  },
  {
   "cell_type": "code",
   "execution_count": 24,
   "id": "b6e477e2-1393-4240-9d2b-e690214486a6",
   "metadata": {},
   "outputs": [
    {
     "data": {
      "text/plain": [
       "-30"
      ]
     },
     "execution_count": 24,
     "metadata": {},
     "output_type": "execute_result"
    }
   ],
   "source": [
    "g"
   ]
  },
  {
   "cell_type": "code",
   "execution_count": 26,
   "id": "abc48020-bbbf-42cc-be1e-37d2d6aca5a6",
   "metadata": {},
   "outputs": [
    {
     "name": "stdout",
     "output_type": "stream",
     "text": [
      "Hello World\n"
     ]
    }
   ],
   "source": [
    "print(\"Hello\",'World')"
   ]
  },
  {
   "cell_type": "code",
   "execution_count": 28,
   "id": "1a339dbe-90a3-4934-b207-27c08226507e",
   "metadata": {},
   "outputs": [
    {
     "data": {
      "text/plain": [
       "'HelloWorld'"
      ]
     },
     "execution_count": 28,
     "metadata": {},
     "output_type": "execute_result"
    }
   ],
   "source": [
    "a=\"Hello\"\n",
    "b='World'\n",
    "a+b"
   ]
  },
  {
   "cell_type": "code",
   "execution_count": 30,
   "id": "501bffdb-6fa8-4804-82ed-4ffa008ecb1f",
   "metadata": {},
   "outputs": [
    {
     "name": "stdout",
     "output_type": "stream",
     "text": [
      "Hello World\n"
     ]
    }
   ],
   "source": [
    "print(a,b)"
   ]
  },
  {
   "cell_type": "code",
   "execution_count": 32,
   "id": "69469505-2f83-4d9b-ad9f-185ac82c9f64",
   "metadata": {},
   "outputs": [
    {
     "data": {
      "text/plain": [
       "'Hello World'"
      ]
     },
     "execution_count": 32,
     "metadata": {},
     "output_type": "execute_result"
    }
   ],
   "source": [
    "a+\" \"+b"
   ]
  },
  {
   "cell_type": "code",
   "execution_count": 34,
   "id": "02af47fc-0243-4fc0-afec-cd11c2f605cb",
   "metadata": {},
   "outputs": [
    {
     "data": {
      "text/plain": [
       "'Hello World'"
      ]
     },
     "execution_count": 34,
     "metadata": {},
     "output_type": "execute_result"
    }
   ],
   "source": [
    "c=a+\" \"+b\n",
    "c"
   ]
  },
  {
   "cell_type": "code",
   "execution_count": 38,
   "id": "17b0a8be-96af-41dc-a099-63f9d9eac6ac",
   "metadata": {},
   "outputs": [
    {
     "data": {
      "text/plain": [
       "'HELLO WORLD'"
      ]
     },
     "execution_count": 38,
     "metadata": {},
     "output_type": "execute_result"
    }
   ],
   "source": [
    "c.upper()"
   ]
  },
  {
   "cell_type": "code",
   "execution_count": 40,
   "id": "10165cff-400e-4adc-903b-4d64f3782ed5",
   "metadata": {},
   "outputs": [
    {
     "data": {
      "text/plain": [
       "'hello world'"
      ]
     },
     "execution_count": 40,
     "metadata": {},
     "output_type": "execute_result"
    }
   ],
   "source": [
    "c.lower()"
   ]
  },
  {
   "cell_type": "code",
   "execution_count": 42,
   "id": "e31a30f8-69f9-4ed5-b33a-a27e86011540",
   "metadata": {},
   "outputs": [
    {
     "data": {
      "text/plain": [
       "'Aditya World'"
      ]
     },
     "execution_count": 42,
     "metadata": {},
     "output_type": "execute_result"
    }
   ],
   "source": [
    "c.replace(\"Hello\",\"Aditya\")"
   ]
  },
  {
   "cell_type": "code",
   "execution_count": 44,
   "id": "20258abb-3d08-47f6-a1bd-284c832a9131",
   "metadata": {},
   "outputs": [
    {
     "data": {
      "text/plain": [
       "'Hello World'"
      ]
     },
     "execution_count": 44,
     "metadata": {},
     "output_type": "execute_result"
    }
   ],
   "source": [
    "c.title()"
   ]
  },
  {
   "cell_type": "code",
   "execution_count": null,
   "id": "9c9e17c8-d1db-41ce-9784-8eebc28da152",
   "metadata": {},
   "outputs": [],
   "source": [
    "    "
   ]
  }
 ],
 "metadata": {
  "kernelspec": {
   "display_name": "Python [conda env:base] *",
   "language": "python",
   "name": "conda-base-py"
  },
  "language_info": {
   "codemirror_mode": {
    "name": "ipython",
    "version": 3
   },
   "file_extension": ".py",
   "mimetype": "text/x-python",
   "name": "python",
   "nbconvert_exporter": "python",
   "pygments_lexer": "ipython3",
   "version": "3.12.7"
  }
 },
 "nbformat": 4,
 "nbformat_minor": 5
}
