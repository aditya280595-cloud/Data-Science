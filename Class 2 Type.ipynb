{
 "cells": [
  {
   "cell_type": "code",
   "execution_count": 6,
   "id": "d332d08a-4775-4af3-a38d-0d08ab5b3e17",
   "metadata": {},
   "outputs": [
    {
     "name": "stdout",
     "output_type": "stream",
     "text": [
      "5\n"
     ]
    }
   ],
   "source": [
    "a=5\n",
    "\n",
    "print(a)"
   ]
  },
  {
   "cell_type": "code",
   "execution_count": 8,
   "id": "ce01cd7f-f4b3-44ce-9760-0adb96832936",
   "metadata": {},
   "outputs": [
    {
     "name": "stdout",
     "output_type": "stream",
     "text": [
      "5\n"
     ]
    },
    {
     "data": {
      "text/plain": [
       "NoneType"
      ]
     },
     "execution_count": 8,
     "metadata": {},
     "output_type": "execute_result"
    }
   ],
   "source": [
    "type(print(a))"
   ]
  },
  {
   "cell_type": "code",
   "execution_count": 10,
   "id": "1ee98567-48fe-4483-bd3b-ca95a41665de",
   "metadata": {},
   "outputs": [
    {
     "data": {
      "text/plain": [
       "int"
      ]
     },
     "execution_count": 10,
     "metadata": {},
     "output_type": "execute_result"
    }
   ],
   "source": [
    "type(a)"
   ]
  },
  {
   "cell_type": "code",
   "execution_count": null,
   "id": "cfb94345-6306-45d5-9269-1c86d7a477c2",
   "metadata": {},
   "outputs": [],
   "source": []
  },
  {
   "cell_type": "code",
   "execution_count": 12,
   "id": "3ec45d1c-c349-48e2-8c24-dd0350c2fb35",
   "metadata": {},
   "outputs": [
    {
     "ename": "TypeError",
     "evalue": "object of type 'int' has no len()",
     "output_type": "error",
     "traceback": [
      "\u001b[1;31m---------------------------------------------------------------------------\u001b[0m",
      "\u001b[1;31mTypeError\u001b[0m                                 Traceback (most recent call last)",
      "Cell \u001b[1;32mIn[12], line 1\u001b[0m\n\u001b[1;32m----> 1\u001b[0m \u001b[38;5;28mlen\u001b[39m(a)\n",
      "\u001b[1;31mTypeError\u001b[0m: object of type 'int' has no len()"
     ]
    }
   ],
   "source": [
    "len(a)"
   ]
  },
  {
   "cell_type": "code",
   "execution_count": 14,
   "id": "017228f5-59d6-428a-940e-6c47396884a5",
   "metadata": {},
   "outputs": [],
   "source": [
    "b=\"aditya\""
   ]
  },
  {
   "cell_type": "code",
   "execution_count": 16,
   "id": "b89c59bc-03b6-4d6c-9573-d4433e270dd5",
   "metadata": {},
   "outputs": [
    {
     "data": {
      "text/plain": [
       "6"
      ]
     },
     "execution_count": 16,
     "metadata": {},
     "output_type": "execute_result"
    }
   ],
   "source": [
    "len(b)"
   ]
  },
  {
   "cell_type": "code",
   "execution_count": 18,
   "id": "d1c31c88-53c3-4561-8416-2d6ef92c698c",
   "metadata": {},
   "outputs": [
    {
     "data": {
      "text/plain": [
       "'aditya'"
      ]
     },
     "execution_count": 18,
     "metadata": {},
     "output_type": "execute_result"
    }
   ],
   "source": [
    "b"
   ]
  },
  {
   "cell_type": "code",
   "execution_count": 26,
   "id": "00b470f2-8c3f-4846-be7a-e597f73695cd",
   "metadata": {},
   "outputs": [
    {
     "data": {
      "text/plain": [
       "'i'"
      ]
     },
     "execution_count": 26,
     "metadata": {},
     "output_type": "execute_result"
    }
   ],
   "source": [
    "b[2]"
   ]
  },
  {
   "cell_type": "code",
   "execution_count": 24,
   "id": "40cb6d42-cf15-49aa-87b4-0da632a9fbc4",
   "metadata": {},
   "outputs": [
    {
     "name": "stdout",
     "output_type": "stream",
     "text": [
      "i\n"
     ]
    }
   ],
   "source": [
    "print(b[2])"
   ]
  },
  {
   "cell_type": "code",
   "execution_count": 28,
   "id": "45c6db3a-43de-4295-be64-cc2945c815eb",
   "metadata": {},
   "outputs": [
    {
     "data": {
      "text/plain": [
       "10"
      ]
     },
     "execution_count": 28,
     "metadata": {},
     "output_type": "execute_result"
    }
   ],
   "source": [
    "a+a"
   ]
  },
  {
   "cell_type": "code",
   "execution_count": 30,
   "id": "2ba151fa-952e-42b5-84ac-45cde6adf5f1",
   "metadata": {},
   "outputs": [
    {
     "data": {
      "text/plain": [
       "'adityaaditya'"
      ]
     },
     "execution_count": 30,
     "metadata": {},
     "output_type": "execute_result"
    }
   ],
   "source": [
    "b+b"
   ]
  },
  {
   "cell_type": "code",
   "execution_count": 32,
   "id": "eeb124c3-5a09-4d0c-94d3-73afb07377db",
   "metadata": {},
   "outputs": [
    {
     "data": {
      "text/plain": [
       "'adityaaditya'"
      ]
     },
     "execution_count": 32,
     "metadata": {},
     "output_type": "execute_result"
    }
   ],
   "source": [
    "b + b "
   ]
  },
  {
   "cell_type": "code",
   "execution_count": 34,
   "id": "df4342df-730f-4c72-ad17-e02272e1568c",
   "metadata": {},
   "outputs": [
    {
     "data": {
      "text/plain": [
       "'aditya aditya'"
      ]
     },
     "execution_count": 34,
     "metadata": {},
     "output_type": "execute_result"
    }
   ],
   "source": [
    "b + \" \" + b"
   ]
  },
  {
   "cell_type": "code",
   "execution_count": 38,
   "id": "2bb50903-f6d1-44c5-b854-beb85acf37f2",
   "metadata": {},
   "outputs": [],
   "source": [
    "boy=[\"Aditya\",\"Lakshmi\",\"Bubu\",\"Dudu\"]"
   ]
  },
  {
   "cell_type": "code",
   "execution_count": 44,
   "id": "4d79d537-c15f-4f07-9c62-fc33d48173b9",
   "metadata": {},
   "outputs": [
    {
     "name": "stdout",
     "output_type": "stream",
     "text": [
      "Aditya Srivastava\n",
      "Lakshmi Srivastava\n",
      "Bubu Srivastava\n",
      "Dudu Srivastava\n"
     ]
    }
   ],
   "source": [
    "for love in boy:\n",
    "    print(love,\"Srivastava\")"
   ]
  },
  {
   "cell_type": "code",
   "execution_count": null,
   "id": "bdfd0adc-844c-4ab5-ad54-5fb8fdca1c2f",
   "metadata": {},
   "outputs": [],
   "source": []
  }
 ],
 "metadata": {
  "kernelspec": {
   "display_name": "Python [conda env:base] *",
   "language": "python",
   "name": "conda-base-py"
  },
  "language_info": {
   "codemirror_mode": {
    "name": "ipython",
    "version": 3
   },
   "file_extension": ".py",
   "mimetype": "text/x-python",
   "name": "python",
   "nbconvert_exporter": "python",
   "pygments_lexer": "ipython3",
   "version": "3.12.7"
  }
 },
 "nbformat": 4,
 "nbformat_minor": 5
}
